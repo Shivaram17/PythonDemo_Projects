{
  "nbformat": 4,
  "nbformat_minor": 0,
  "metadata": {
    "colab": {
      "provenance": [],
      "authorship_tag": "ABX9TyM4wP0G69MjzKOzknTBf3u3",
      "include_colab_link": true
    },
    "kernelspec": {
      "name": "python3",
      "display_name": "Python 3"
    },
    "language_info": {
      "name": "python"
    }
  },
  "cells": [
    {
      "cell_type": "markdown",
      "metadata": {
        "id": "view-in-github",
        "colab_type": "text"
      },
      "source": [
        "<a href=\"https://colab.research.google.com/github/Shivaram17/PythonDemo_Projects/blob/main/Anagram_Merge_sortedList_JashDataScienceInterview.ipynb\" target=\"_parent\"><img src=\"https://colab.research.google.com/assets/colab-badge.svg\" alt=\"Open In Colab\"/></a>"
      ]
    },
    {
      "cell_type": "code",
      "execution_count": null,
      "metadata": {
        "id": "2VLpOToTo55a"
      },
      "outputs": [],
      "source": [
        "#anagrams of 3 pairs\n",
        "# \"New York Times\" = \"monkeys write\"\n",
        "# rocket boys = October sky\n",
        "# \"McDonald's restaurants\" = \"Uncle Sam's standard rot\""
      ]
    },
    {
      "cell_type": "code",
      "source": [
        "# Anagrams create a function two strings as true or false\n",
        "def anagram(s1, s2):\n",
        "  s1 = s1.lower()\n",
        "  s2 = s2.lower()\n",
        "  print('lower s1', s1)\n",
        "  #pass the convert string1 and 2\n",
        "  s1 = list(s1)\n",
        "  s2 = list(s2)\n",
        "  s1 = [i for i in s1 if i != ' ']\n",
        "  s2 = [i for i in s2 if i != ' ']\n",
        "  print(s1)\n",
        "  print(s2)\n",
        "  length1 = len(s2)\n",
        "  count = 0\n",
        "  for ch in s1:\n",
        "    if ch in s2:\n",
        "      count = count + 1\n",
        "  if count == length1:\n",
        "    return True\n",
        "  return False\n",
        "s1 = \"New York Times\"\n",
        "s2 = \"monkeyss write\"\n",
        "anagram(s1, s2)\n"
      ],
      "metadata": {
        "id": "Azl4CVdoSL9V",
        "colab": {
          "base_uri": "https://localhost:8080/"
        },
        "outputId": "80b848de-d10b-4c26-dd5f-4631fbc825e7"
      },
      "execution_count": null,
      "outputs": [
        {
          "output_type": "stream",
          "name": "stdout",
          "text": [
            "lower s1 new york times\n",
            "['n', 'e', 'w', 'y', 'o', 'r', 'k', 't', 'i', 'm', 'e', 's']\n",
            "['m', 'o', 'n', 'k', 'e', 'y', 's', 's', 'w', 'r', 'i', 't', 'e']\n"
          ]
        },
        {
          "output_type": "execute_result",
          "data": {
            "text/plain": [
              "False"
            ]
          },
          "metadata": {},
          "execution_count": 15
        }
      ]
    },
    {
      "cell_type": "code",
      "source": [
        "\n",
        "#problem 2 merge the two lists by sorting while adding using stack \n",
        "l1 = [5,5,8,9,15,20,88]\n",
        "l2 =  [6,6,7,8,9,12,22,25,99,150,200]\n",
        "\n",
        "s = []\n",
        "while l1 and l2:\n",
        "  if l1[0] < l2[0]:\n",
        "    s.append(l1.pop(0))\n",
        "  else:\n",
        "    s.append(l2.pop(0))\n",
        "\n",
        "# add the remaining elements from l1 and l2 to s respectively\n",
        "print(l1)\n",
        "print(l2)\n",
        "s += l1\n",
        "s += l2\n",
        "\n",
        "print(s)\n",
        "\n",
        "\n",
        "\n",
        "   "
      ],
      "metadata": {
        "colab": {
          "base_uri": "https://localhost:8080/"
        },
        "id": "y9OHTziShYCL",
        "outputId": "2a4b2eb9-80ab-4186-afe1-a2532351747f"
      },
      "execution_count": 3,
      "outputs": [
        {
          "output_type": "stream",
          "name": "stdout",
          "text": [
            "[]\n",
            "[99, 150, 200]\n",
            "[5, 5, 6, 6, 7, 8, 8, 9, 9, 12, 15, 20, 22, 25, 88, 99, 150, 200]\n"
          ]
        }
      ]
    },
    {
      "cell_type": "code",
      "source": [],
      "metadata": {
        "id": "LDYSF6EXlBVv"
      },
      "execution_count": null,
      "outputs": []
    }
  ]
}